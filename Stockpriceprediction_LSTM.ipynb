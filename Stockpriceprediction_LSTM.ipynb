{
  "nbformat": 4,
  "nbformat_minor": 0,
  "metadata": {
    "colab": {
      "provenance": [],
      "authorship_tag": "ABX9TyMx0ncLpE1wrAoP8YWngQkn",
      "include_colab_link": true
    },
    "kernelspec": {
      "name": "python3",
      "display_name": "Python 3"
    },
    "language_info": {
      "name": "python"
    }
  },
  "cells": [
    {
      "cell_type": "markdown",
      "metadata": {
        "id": "view-in-github",
        "colab_type": "text"
      },
      "source": [
        "<a href=\"https://colab.research.google.com/github/bhargavi5e1/bhargavi/blob/main/Stockpriceprediction_LSTM.ipynb\" target=\"_parent\"><img src=\"https://colab.research.google.com/assets/colab-badge.svg\" alt=\"Open In Colab\"/></a>"
      ]
    },
    {
      "cell_type": "markdown",
      "source": [
        "#                        1. Stock Prediction :\n",
        "# Take stock price of any company you want and predicts its price by using LSTM.\n",
        "\n",
        "\n"
      ],
      "metadata": {
        "id": "b4ksreYQjQwV"
      }
    },
    {
      "cell_type": "code",
      "source": [
        "import os\n",
        "import numpy as np\n",
        "import pandas as pd\n",
        "import matplotlib.pyplot as plt\n",
        "from keras.models import Sequential\n",
        "from keras.layers import Dense\n",
        "from keras.layers import LSTM\n",
        "from keras.layers import Dropout\n",
        "from sklearn.preprocessing import MinMaxScaler"
      ],
      "metadata": {
        "id": "eRV8DQS-TUqS"
      },
      "execution_count": null,
      "outputs": []
    },
    {
      "cell_type": "code",
      "source": [
        "dataset = pd.read_csv(\"/content/archive.zip\")\n",
        "print(len(dataset))"
      ],
      "metadata": {
        "colab": {
          "base_uri": "https://localhost:8080/"
        },
        "id": "m2rPAXi_TcVw",
        "outputId": "0aac7dd0-6773-401b-c7aa-3f9435087785"
      },
      "execution_count": null,
      "outputs": [
        {
          "output_type": "stream",
          "name": "stdout",
          "text": [
            "4431\n"
          ]
        }
      ]
    },
    {
      "cell_type": "code",
      "source": [
        "dataset.head()"
      ],
      "metadata": {
        "colab": {
          "base_uri": "https://localhost:8080/",
          "height": 206
        },
        "id": "bzSOO-qETqWJ",
        "outputId": "5488d83f-f969-4409-b7c7-74bd9beded31"
      },
      "execution_count": null,
      "outputs": [
        {
          "output_type": "execute_result",
          "data": {
            "text/plain": [
              "         Date       Open       High        Low      Close  Adj Close    Volume\n",
              "0  2004-08-19  50.050049  52.082081  48.028027  50.220219  50.220219  44659096\n",
              "1  2004-08-20  50.555557  54.594597  50.300301  54.209209  54.209209  22834343\n",
              "2  2004-08-23  55.430431  56.796799  54.579578  54.754753  54.754753  18256126\n",
              "3  2004-08-24  55.675674  55.855858  51.836838  52.487488  52.487488  15247337\n",
              "4  2004-08-25  52.532532  54.054054  51.991993  53.053055  53.053055   9188602"
            ],
            "text/html": [
              "\n",
              "  <div id=\"df-b6333ecd-dbf9-4e3a-8e4c-d47beef6a4fd\" class=\"colab-df-container\">\n",
              "    <div>\n",
              "<style scoped>\n",
              "    .dataframe tbody tr th:only-of-type {\n",
              "        vertical-align: middle;\n",
              "    }\n",
              "\n",
              "    .dataframe tbody tr th {\n",
              "        vertical-align: top;\n",
              "    }\n",
              "\n",
              "    .dataframe thead th {\n",
              "        text-align: right;\n",
              "    }\n",
              "</style>\n",
              "<table border=\"1\" class=\"dataframe\">\n",
              "  <thead>\n",
              "    <tr style=\"text-align: right;\">\n",
              "      <th></th>\n",
              "      <th>Date</th>\n",
              "      <th>Open</th>\n",
              "      <th>High</th>\n",
              "      <th>Low</th>\n",
              "      <th>Close</th>\n",
              "      <th>Adj Close</th>\n",
              "      <th>Volume</th>\n",
              "    </tr>\n",
              "  </thead>\n",
              "  <tbody>\n",
              "    <tr>\n",
              "      <th>0</th>\n",
              "      <td>2004-08-19</td>\n",
              "      <td>50.050049</td>\n",
              "      <td>52.082081</td>\n",
              "      <td>48.028027</td>\n",
              "      <td>50.220219</td>\n",
              "      <td>50.220219</td>\n",
              "      <td>44659096</td>\n",
              "    </tr>\n",
              "    <tr>\n",
              "      <th>1</th>\n",
              "      <td>2004-08-20</td>\n",
              "      <td>50.555557</td>\n",
              "      <td>54.594597</td>\n",
              "      <td>50.300301</td>\n",
              "      <td>54.209209</td>\n",
              "      <td>54.209209</td>\n",
              "      <td>22834343</td>\n",
              "    </tr>\n",
              "    <tr>\n",
              "      <th>2</th>\n",
              "      <td>2004-08-23</td>\n",
              "      <td>55.430431</td>\n",
              "      <td>56.796799</td>\n",
              "      <td>54.579578</td>\n",
              "      <td>54.754753</td>\n",
              "      <td>54.754753</td>\n",
              "      <td>18256126</td>\n",
              "    </tr>\n",
              "    <tr>\n",
              "      <th>3</th>\n",
              "      <td>2004-08-24</td>\n",
              "      <td>55.675674</td>\n",
              "      <td>55.855858</td>\n",
              "      <td>51.836838</td>\n",
              "      <td>52.487488</td>\n",
              "      <td>52.487488</td>\n",
              "      <td>15247337</td>\n",
              "    </tr>\n",
              "    <tr>\n",
              "      <th>4</th>\n",
              "      <td>2004-08-25</td>\n",
              "      <td>52.532532</td>\n",
              "      <td>54.054054</td>\n",
              "      <td>51.991993</td>\n",
              "      <td>53.053055</td>\n",
              "      <td>53.053055</td>\n",
              "      <td>9188602</td>\n",
              "    </tr>\n",
              "  </tbody>\n",
              "</table>\n",
              "</div>\n",
              "    <div class=\"colab-df-buttons\">\n",
              "\n",
              "  <div class=\"colab-df-container\">\n",
              "    <button class=\"colab-df-convert\" onclick=\"convertToInteractive('df-b6333ecd-dbf9-4e3a-8e4c-d47beef6a4fd')\"\n",
              "            title=\"Convert this dataframe to an interactive table.\"\n",
              "            style=\"display:none;\">\n",
              "\n",
              "  <svg xmlns=\"http://www.w3.org/2000/svg\" height=\"24px\" viewBox=\"0 -960 960 960\">\n",
              "    <path d=\"M120-120v-720h720v720H120Zm60-500h600v-160H180v160Zm220 220h160v-160H400v160Zm0 220h160v-160H400v160ZM180-400h160v-160H180v160Zm440 0h160v-160H620v160ZM180-180h160v-160H180v160Zm440 0h160v-160H620v160Z\"/>\n",
              "  </svg>\n",
              "    </button>\n",
              "\n",
              "  <style>\n",
              "    .colab-df-container {\n",
              "      display:flex;\n",
              "      gap: 12px;\n",
              "    }\n",
              "\n",
              "    .colab-df-convert {\n",
              "      background-color: #E8F0FE;\n",
              "      border: none;\n",
              "      border-radius: 50%;\n",
              "      cursor: pointer;\n",
              "      display: none;\n",
              "      fill: #1967D2;\n",
              "      height: 32px;\n",
              "      padding: 0 0 0 0;\n",
              "      width: 32px;\n",
              "    }\n",
              "\n",
              "    .colab-df-convert:hover {\n",
              "      background-color: #E2EBFA;\n",
              "      box-shadow: 0px 1px 2px rgba(60, 64, 67, 0.3), 0px 1px 3px 1px rgba(60, 64, 67, 0.15);\n",
              "      fill: #174EA6;\n",
              "    }\n",
              "\n",
              "    .colab-df-buttons div {\n",
              "      margin-bottom: 4px;\n",
              "    }\n",
              "\n",
              "    [theme=dark] .colab-df-convert {\n",
              "      background-color: #3B4455;\n",
              "      fill: #D2E3FC;\n",
              "    }\n",
              "\n",
              "    [theme=dark] .colab-df-convert:hover {\n",
              "      background-color: #434B5C;\n",
              "      box-shadow: 0px 1px 3px 1px rgba(0, 0, 0, 0.15);\n",
              "      filter: drop-shadow(0px 1px 2px rgba(0, 0, 0, 0.3));\n",
              "      fill: #FFFFFF;\n",
              "    }\n",
              "  </style>\n",
              "\n",
              "    <script>\n",
              "      const buttonEl =\n",
              "        document.querySelector('#df-b6333ecd-dbf9-4e3a-8e4c-d47beef6a4fd button.colab-df-convert');\n",
              "      buttonEl.style.display =\n",
              "        google.colab.kernel.accessAllowed ? 'block' : 'none';\n",
              "\n",
              "      async function convertToInteractive(key) {\n",
              "        const element = document.querySelector('#df-b6333ecd-dbf9-4e3a-8e4c-d47beef6a4fd');\n",
              "        const dataTable =\n",
              "          await google.colab.kernel.invokeFunction('convertToInteractive',\n",
              "                                                    [key], {});\n",
              "        if (!dataTable) return;\n",
              "\n",
              "        const docLinkHtml = 'Like what you see? Visit the ' +\n",
              "          '<a target=\"_blank\" href=https://colab.research.google.com/notebooks/data_table.ipynb>data table notebook</a>'\n",
              "          + ' to learn more about interactive tables.';\n",
              "        element.innerHTML = '';\n",
              "        dataTable['output_type'] = 'display_data';\n",
              "        await google.colab.output.renderOutput(dataTable, element);\n",
              "        const docLink = document.createElement('div');\n",
              "        docLink.innerHTML = docLinkHtml;\n",
              "        element.appendChild(docLink);\n",
              "      }\n",
              "    </script>\n",
              "  </div>\n",
              "\n",
              "\n",
              "<div id=\"df-99f3c21f-7faf-4d6c-8872-ad9c9e946366\">\n",
              "  <button class=\"colab-df-quickchart\" onclick=\"quickchart('df-99f3c21f-7faf-4d6c-8872-ad9c9e946366')\"\n",
              "            title=\"Suggest charts.\"\n",
              "            style=\"display:none;\">\n",
              "\n",
              "<svg xmlns=\"http://www.w3.org/2000/svg\" height=\"24px\"viewBox=\"0 0 24 24\"\n",
              "     width=\"24px\">\n",
              "    <g>\n",
              "        <path d=\"M19 3H5c-1.1 0-2 .9-2 2v14c0 1.1.9 2 2 2h14c1.1 0 2-.9 2-2V5c0-1.1-.9-2-2-2zM9 17H7v-7h2v7zm4 0h-2V7h2v10zm4 0h-2v-4h2v4z\"/>\n",
              "    </g>\n",
              "</svg>\n",
              "  </button>\n",
              "\n",
              "<style>\n",
              "  .colab-df-quickchart {\n",
              "      --bg-color: #E8F0FE;\n",
              "      --fill-color: #1967D2;\n",
              "      --hover-bg-color: #E2EBFA;\n",
              "      --hover-fill-color: #174EA6;\n",
              "      --disabled-fill-color: #AAA;\n",
              "      --disabled-bg-color: #DDD;\n",
              "  }\n",
              "\n",
              "  [theme=dark] .colab-df-quickchart {\n",
              "      --bg-color: #3B4455;\n",
              "      --fill-color: #D2E3FC;\n",
              "      --hover-bg-color: #434B5C;\n",
              "      --hover-fill-color: #FFFFFF;\n",
              "      --disabled-bg-color: #3B4455;\n",
              "      --disabled-fill-color: #666;\n",
              "  }\n",
              "\n",
              "  .colab-df-quickchart {\n",
              "    background-color: var(--bg-color);\n",
              "    border: none;\n",
              "    border-radius: 50%;\n",
              "    cursor: pointer;\n",
              "    display: none;\n",
              "    fill: var(--fill-color);\n",
              "    height: 32px;\n",
              "    padding: 0;\n",
              "    width: 32px;\n",
              "  }\n",
              "\n",
              "  .colab-df-quickchart:hover {\n",
              "    background-color: var(--hover-bg-color);\n",
              "    box-shadow: 0 1px 2px rgba(60, 64, 67, 0.3), 0 1px 3px 1px rgba(60, 64, 67, 0.15);\n",
              "    fill: var(--button-hover-fill-color);\n",
              "  }\n",
              "\n",
              "  .colab-df-quickchart-complete:disabled,\n",
              "  .colab-df-quickchart-complete:disabled:hover {\n",
              "    background-color: var(--disabled-bg-color);\n",
              "    fill: var(--disabled-fill-color);\n",
              "    box-shadow: none;\n",
              "  }\n",
              "\n",
              "  .colab-df-spinner {\n",
              "    border: 2px solid var(--fill-color);\n",
              "    border-color: transparent;\n",
              "    border-bottom-color: var(--fill-color);\n",
              "    animation:\n",
              "      spin 1s steps(1) infinite;\n",
              "  }\n",
              "\n",
              "  @keyframes spin {\n",
              "    0% {\n",
              "      border-color: transparent;\n",
              "      border-bottom-color: var(--fill-color);\n",
              "      border-left-color: var(--fill-color);\n",
              "    }\n",
              "    20% {\n",
              "      border-color: transparent;\n",
              "      border-left-color: var(--fill-color);\n",
              "      border-top-color: var(--fill-color);\n",
              "    }\n",
              "    30% {\n",
              "      border-color: transparent;\n",
              "      border-left-color: var(--fill-color);\n",
              "      border-top-color: var(--fill-color);\n",
              "      border-right-color: var(--fill-color);\n",
              "    }\n",
              "    40% {\n",
              "      border-color: transparent;\n",
              "      border-right-color: var(--fill-color);\n",
              "      border-top-color: var(--fill-color);\n",
              "    }\n",
              "    60% {\n",
              "      border-color: transparent;\n",
              "      border-right-color: var(--fill-color);\n",
              "    }\n",
              "    80% {\n",
              "      border-color: transparent;\n",
              "      border-right-color: var(--fill-color);\n",
              "      border-bottom-color: var(--fill-color);\n",
              "    }\n",
              "    90% {\n",
              "      border-color: transparent;\n",
              "      border-bottom-color: var(--fill-color);\n",
              "    }\n",
              "  }\n",
              "</style>\n",
              "\n",
              "  <script>\n",
              "    async function quickchart(key) {\n",
              "      const quickchartButtonEl =\n",
              "        document.querySelector('#' + key + ' button');\n",
              "      quickchartButtonEl.disabled = true;  // To prevent multiple clicks.\n",
              "      quickchartButtonEl.classList.add('colab-df-spinner');\n",
              "      try {\n",
              "        const charts = await google.colab.kernel.invokeFunction(\n",
              "            'suggestCharts', [key], {});\n",
              "      } catch (error) {\n",
              "        console.error('Error during call to suggestCharts:', error);\n",
              "      }\n",
              "      quickchartButtonEl.classList.remove('colab-df-spinner');\n",
              "      quickchartButtonEl.classList.add('colab-df-quickchart-complete');\n",
              "    }\n",
              "    (() => {\n",
              "      let quickchartButtonEl =\n",
              "        document.querySelector('#df-99f3c21f-7faf-4d6c-8872-ad9c9e946366 button');\n",
              "      quickchartButtonEl.style.display =\n",
              "        google.colab.kernel.accessAllowed ? 'block' : 'none';\n",
              "    })();\n",
              "  </script>\n",
              "</div>\n",
              "    </div>\n",
              "  </div>\n"
            ]
          },
          "metadata": {},
          "execution_count": 11
        }
      ]
    },
    {
      "cell_type": "code",
      "source": [
        "print(dataset.columns.tolist())\n"
      ],
      "metadata": {
        "colab": {
          "base_uri": "https://localhost:8080/"
        },
        "id": "NTorNbVsTvEJ",
        "outputId": "cffda375-3cff-4048-c694-abf973960b03"
      },
      "execution_count": null,
      "outputs": [
        {
          "output_type": "stream",
          "name": "stdout",
          "text": [
            "['Date', 'Open', 'High', 'Low', 'Close', 'Adj Close', 'Volume']\n"
          ]
        }
      ]
    },
    {
      "cell_type": "code",
      "source": [
        "dataset_train=dataset.iloc[4000:-100]\n",
        "dataset_test=dataset.iloc[-100:]"
      ],
      "metadata": {
        "id": "byTsX05PT1ru"
      },
      "execution_count": null,
      "outputs": []
    },
    {
      "cell_type": "markdown",
      "source": [
        "**dataset_train**\n",
        "\n",
        "\n",
        "\n"
      ],
      "metadata": {
        "id": "15e40ZMXUWMO"
      }
    },
    {
      "cell_type": "code",
      "source": [
        "trainset = dataset_train.iloc[:,1:2].values #Open\n",
        "display(trainset[0:5])"
      ],
      "metadata": {
        "colab": {
          "base_uri": "https://localhost:8080/",
          "height": 104
        },
        "id": "fEvU3zR6UYIJ",
        "outputId": "4bf0becf-ebb1-41fe-a931-697eafbcea6d"
      },
      "execution_count": null,
      "outputs": [
        {
          "output_type": "display_data",
          "data": {
            "text/plain": [
              "array([[1513.25    ],\n",
              "       [1549.939941],\n",
              "       [1492.790039],\n",
              "       [1523.22998 ],\n",
              "       [1501.5     ]])"
            ]
          },
          "metadata": {}
        }
      ]
    },
    {
      "cell_type": "markdown",
      "source": [
        "**MinMaxScaler**"
      ],
      "metadata": {
        "id": "dA150lcWUvPu"
      }
    },
    {
      "cell_type": "code",
      "source": [
        "sc = MinMaxScaler(feature_range = (0,1))\n",
        "training_scaled = sc.fit_transform(trainset)\n",
        "print(training_scaled[0:5])\n",
        "print(len(training_scaled))"
      ],
      "metadata": {
        "colab": {
          "base_uri": "https://localhost:8080/"
        },
        "id": "LxSH7FmZUq8f",
        "outputId": "312fbc41-4432-482c-c7b4-fdae4782c6c2"
      },
      "execution_count": null,
      "outputs": [
        {
          "output_type": "stream",
          "name": "stdout",
          "text": [
            "[[0.07179821]\n",
            " [0.09562269]\n",
            " [0.0585126 ]\n",
            " [0.07827867]\n",
            " [0.06416838]]\n",
            "331\n"
          ]
        }
      ]
    },
    {
      "cell_type": "code",
      "source": [
        "x_train = []\n",
        "y_train = []"
      ],
      "metadata": {
        "id": "goflLa08U4zJ"
      },
      "execution_count": null,
      "outputs": []
    },
    {
      "cell_type": "code",
      "source": [
        "for i in range(60,len(training_scaled)):\n",
        "    x_train.append(training_scaled[i-60:i, 0])\n",
        "    y_train.append(training_scaled[i,0])\n",
        "x_train,y_train = np.array(x_train),np.array(y_train)\n",
        "print(x_train.shape,y_train.shape)"
      ],
      "metadata": {
        "colab": {
          "base_uri": "https://localhost:8080/"
        },
        "id": "rl7E69cZU6bs",
        "outputId": "5acf9185-a3ba-41b8-a27d-c333e76c341b"
      },
      "execution_count": null,
      "outputs": [
        {
          "output_type": "stream",
          "name": "stdout",
          "text": [
            "(271, 60) (271,)\n"
          ]
        }
      ]
    },
    {
      "cell_type": "code",
      "source": [
        "x_train = np.reshape(x_train, (x_train.shape[0],x_train.shape[1],1))\n",
        "print('(samples, time steps, features) =',x_train.shape)"
      ],
      "metadata": {
        "colab": {
          "base_uri": "https://localhost:8080/"
        },
        "id": "yEaQGCrhU-6w",
        "outputId": "f75cffcc-f588-4e72-e22a-b412a595cee4"
      },
      "execution_count": null,
      "outputs": [
        {
          "output_type": "stream",
          "name": "stdout",
          "text": [
            "(samples, time steps, features) = (271, 60, 1)\n"
          ]
        }
      ]
    },
    {
      "cell_type": "code",
      "source": [
        "regressor = Sequential()\n",
        "regressor.add(LSTM(units = 50,return_sequences = True,input_shape = (x_train.shape[1],1)))\n",
        "regressor.add(Dropout(0.2))\n",
        "regressor.add(LSTM(units = 50,return_sequences = True))\n",
        "regressor.add(Dropout(0.2))\n",
        "regressor.add(LSTM(units = 50,return_sequences = True))\n",
        "regressor.add(Dropout(0.2))\n",
        "regressor.add(LSTM(units = 50))\n",
        "regressor.add(Dropout(0.2))\n",
        "regressor.add(Dense(units = 1))"
      ],
      "metadata": {
        "id": "N1hmHELyVEOR"
      },
      "execution_count": null,
      "outputs": []
    },
    {
      "cell_type": "code",
      "source": [
        "regressor.compile(optimizer = 'adam',loss = 'mean_squared_error')\n",
        "\n",
        "regressor.fit(x_train,y_train,epochs =100, batch_size = 32)"
      ],
      "metadata": {
        "colab": {
          "base_uri": "https://localhost:8080/"
        },
        "id": "ptZX22kxXxu-",
        "outputId": "66872498-89f7-48ec-e372-569efd627a0c"
      },
      "execution_count": null,
      "outputs": [
        {
          "output_type": "stream",
          "name": "stdout",
          "text": [
            "Epoch 1/100\n",
            "9/9 [==============================] - 11s 128ms/step - loss: 0.0077\n",
            "Epoch 2/100\n",
            "9/9 [==============================] - 1s 127ms/step - loss: 0.0052\n",
            "Epoch 3/100\n",
            "9/9 [==============================] - 1s 128ms/step - loss: 0.0047\n",
            "Epoch 4/100\n",
            "9/9 [==============================] - 1s 129ms/step - loss: 0.0049\n",
            "Epoch 5/100\n",
            "9/9 [==============================] - 1s 130ms/step - loss: 0.0049\n",
            "Epoch 6/100\n",
            "9/9 [==============================] - 1s 127ms/step - loss: 0.0046\n",
            "Epoch 7/100\n",
            "9/9 [==============================] - 1s 131ms/step - loss: 0.0047\n",
            "Epoch 8/100\n",
            "9/9 [==============================] - 1s 129ms/step - loss: 0.0044\n",
            "Epoch 9/100\n",
            "9/9 [==============================] - 2s 216ms/step - loss: 0.0047\n",
            "Epoch 10/100\n",
            "9/9 [==============================] - 2s 165ms/step - loss: 0.0044\n",
            "Epoch 11/100\n",
            "9/9 [==============================] - 1s 126ms/step - loss: 0.0047\n",
            "Epoch 12/100\n",
            "9/9 [==============================] - 1s 123ms/step - loss: 0.0041\n",
            "Epoch 13/100\n",
            "9/9 [==============================] - 1s 126ms/step - loss: 0.0040\n",
            "Epoch 14/100\n",
            "9/9 [==============================] - 1s 125ms/step - loss: 0.0045\n",
            "Epoch 15/100\n",
            "9/9 [==============================] - 1s 126ms/step - loss: 0.0043\n",
            "Epoch 16/100\n",
            "9/9 [==============================] - 1s 126ms/step - loss: 0.0041\n",
            "Epoch 17/100\n",
            "9/9 [==============================] - 1s 131ms/step - loss: 0.0038\n",
            "Epoch 18/100\n",
            "9/9 [==============================] - 1s 128ms/step - loss: 0.0043\n",
            "Epoch 19/100\n",
            "9/9 [==============================] - 2s 202ms/step - loss: 0.0033\n",
            "Epoch 20/100\n",
            "9/9 [==============================] - 2s 193ms/step - loss: 0.0035\n",
            "Epoch 21/100\n",
            "9/9 [==============================] - 1s 128ms/step - loss: 0.0035\n",
            "Epoch 22/100\n",
            "9/9 [==============================] - 1s 127ms/step - loss: 0.0038\n",
            "Epoch 23/100\n",
            "9/9 [==============================] - 1s 126ms/step - loss: 0.0033\n",
            "Epoch 24/100\n",
            "9/9 [==============================] - 1s 129ms/step - loss: 0.0035\n",
            "Epoch 25/100\n",
            "9/9 [==============================] - 1s 126ms/step - loss: 0.0044\n",
            "Epoch 26/100\n",
            "9/9 [==============================] - 1s 134ms/step - loss: 0.0041\n",
            "Epoch 27/100\n",
            "9/9 [==============================] - 1s 126ms/step - loss: 0.0040\n",
            "Epoch 28/100\n",
            "9/9 [==============================] - 1s 131ms/step - loss: 0.0041\n",
            "Epoch 29/100\n",
            "9/9 [==============================] - 2s 189ms/step - loss: 0.0044\n",
            "Epoch 30/100\n",
            "9/9 [==============================] - 2s 204ms/step - loss: 0.0041\n",
            "Epoch 31/100\n",
            "9/9 [==============================] - 1s 126ms/step - loss: 0.0042\n",
            "Epoch 32/100\n",
            "9/9 [==============================] - 1s 131ms/step - loss: 0.0038\n",
            "Epoch 33/100\n",
            "9/9 [==============================] - 1s 127ms/step - loss: 0.0035\n",
            "Epoch 34/100\n",
            "9/9 [==============================] - 1s 127ms/step - loss: 0.0045\n",
            "Epoch 35/100\n",
            "9/9 [==============================] - 1s 127ms/step - loss: 0.0032\n",
            "Epoch 36/100\n",
            "9/9 [==============================] - 1s 133ms/step - loss: 0.0035\n",
            "Epoch 37/100\n",
            "9/9 [==============================] - 1s 129ms/step - loss: 0.0035\n",
            "Epoch 38/100\n",
            "9/9 [==============================] - 1s 129ms/step - loss: 0.0040\n",
            "Epoch 39/100\n",
            "9/9 [==============================] - 2s 178ms/step - loss: 0.0038\n",
            "Epoch 40/100\n",
            "9/9 [==============================] - 2s 213ms/step - loss: 0.0038\n",
            "Epoch 41/100\n",
            "9/9 [==============================] - 1s 125ms/step - loss: 0.0033\n",
            "Epoch 42/100\n",
            "9/9 [==============================] - 1s 130ms/step - loss: 0.0032\n",
            "Epoch 43/100\n",
            "9/9 [==============================] - 1s 132ms/step - loss: 0.0039\n",
            "Epoch 44/100\n",
            "9/9 [==============================] - 1s 130ms/step - loss: 0.0040\n",
            "Epoch 45/100\n",
            "9/9 [==============================] - 1s 134ms/step - loss: 0.0035\n",
            "Epoch 46/100\n",
            "9/9 [==============================] - 1s 128ms/step - loss: 0.0035\n",
            "Epoch 47/100\n",
            "9/9 [==============================] - 1s 129ms/step - loss: 0.0033\n",
            "Epoch 48/100\n",
            "9/9 [==============================] - 1s 128ms/step - loss: 0.0033\n",
            "Epoch 49/100\n",
            "9/9 [==============================] - 1s 166ms/step - loss: 0.0043\n",
            "Epoch 50/100\n",
            "9/9 [==============================] - 2s 209ms/step - loss: 0.0035\n",
            "Epoch 51/100\n",
            "9/9 [==============================] - 1s 132ms/step - loss: 0.0035\n",
            "Epoch 52/100\n",
            "9/9 [==============================] - 1s 124ms/step - loss: 0.0033\n",
            "Epoch 53/100\n",
            "9/9 [==============================] - 1s 128ms/step - loss: 0.0034\n",
            "Epoch 54/100\n",
            "9/9 [==============================] - 1s 127ms/step - loss: 0.0038\n",
            "Epoch 55/100\n",
            "9/9 [==============================] - 1s 125ms/step - loss: 0.0031\n",
            "Epoch 56/100\n",
            "9/9 [==============================] - 1s 128ms/step - loss: 0.0030\n",
            "Epoch 57/100\n",
            "9/9 [==============================] - 1s 129ms/step - loss: 0.0040\n",
            "Epoch 58/100\n",
            "9/9 [==============================] - 1s 125ms/step - loss: 0.0046\n",
            "Epoch 59/100\n",
            "9/9 [==============================] - 1s 132ms/step - loss: 0.0035\n",
            "Epoch 60/100\n",
            "9/9 [==============================] - 2s 210ms/step - loss: 0.0033\n",
            "Epoch 61/100\n",
            "9/9 [==============================] - 1s 158ms/step - loss: 0.0032\n",
            "Epoch 62/100\n",
            "9/9 [==============================] - 1s 128ms/step - loss: 0.0032\n",
            "Epoch 63/100\n",
            "9/9 [==============================] - 1s 128ms/step - loss: 0.0032\n",
            "Epoch 64/100\n",
            "9/9 [==============================] - 1s 129ms/step - loss: 0.0030\n",
            "Epoch 65/100\n",
            "9/9 [==============================] - 1s 131ms/step - loss: 0.0029\n",
            "Epoch 66/100\n",
            "9/9 [==============================] - 1s 130ms/step - loss: 0.0033\n",
            "Epoch 67/100\n",
            "9/9 [==============================] - 1s 128ms/step - loss: 0.0027\n",
            "Epoch 68/100\n",
            "9/9 [==============================] - 1s 128ms/step - loss: 0.0030\n",
            "Epoch 69/100\n",
            "9/9 [==============================] - 1s 126ms/step - loss: 0.0029\n",
            "Epoch 70/100\n",
            "9/9 [==============================] - 2s 219ms/step - loss: 0.0028\n",
            "Epoch 71/100\n",
            "9/9 [==============================] - 2s 174ms/step - loss: 0.0034\n",
            "Epoch 72/100\n",
            "9/9 [==============================] - 1s 125ms/step - loss: 0.0036\n",
            "Epoch 73/100\n",
            "9/9 [==============================] - 1s 133ms/step - loss: 0.0033\n",
            "Epoch 74/100\n",
            "9/9 [==============================] - 1s 126ms/step - loss: 0.0025\n",
            "Epoch 75/100\n",
            "9/9 [==============================] - 1s 129ms/step - loss: 0.0030\n",
            "Epoch 76/100\n",
            "9/9 [==============================] - 1s 129ms/step - loss: 0.0039\n",
            "Epoch 77/100\n",
            "9/9 [==============================] - 1s 128ms/step - loss: 0.0032\n",
            "Epoch 78/100\n",
            "9/9 [==============================] - 1s 128ms/step - loss: 0.0027\n",
            "Epoch 79/100\n",
            "9/9 [==============================] - 1s 124ms/step - loss: 0.0031\n",
            "Epoch 80/100\n",
            "9/9 [==============================] - 2s 206ms/step - loss: 0.0028\n",
            "Epoch 81/100\n",
            "9/9 [==============================] - 2s 188ms/step - loss: 0.0029\n",
            "Epoch 82/100\n",
            "9/9 [==============================] - 1s 126ms/step - loss: 0.0033\n",
            "Epoch 83/100\n",
            "9/9 [==============================] - 1s 127ms/step - loss: 0.0031\n",
            "Epoch 84/100\n",
            "9/9 [==============================] - 1s 127ms/step - loss: 0.0032\n",
            "Epoch 85/100\n",
            "9/9 [==============================] - 1s 128ms/step - loss: 0.0033\n",
            "Epoch 86/100\n",
            "9/9 [==============================] - 1s 128ms/step - loss: 0.0032\n",
            "Epoch 87/100\n",
            "9/9 [==============================] - 1s 127ms/step - loss: 0.0029\n",
            "Epoch 88/100\n",
            "9/9 [==============================] - 1s 128ms/step - loss: 0.0029\n",
            "Epoch 89/100\n",
            "9/9 [==============================] - 1s 126ms/step - loss: 0.0032\n",
            "Epoch 90/100\n",
            "9/9 [==============================] - 2s 193ms/step - loss: 0.0025\n",
            "Epoch 91/100\n",
            "9/9 [==============================] - 2s 208ms/step - loss: 0.0028\n",
            "Epoch 92/100\n",
            "9/9 [==============================] - 1s 128ms/step - loss: 0.0031\n",
            "Epoch 93/100\n",
            "9/9 [==============================] - 1s 135ms/step - loss: 0.0034\n",
            "Epoch 94/100\n",
            "9/9 [==============================] - 1s 128ms/step - loss: 0.0031\n",
            "Epoch 95/100\n",
            "9/9 [==============================] - 1s 126ms/step - loss: 0.0027\n",
            "Epoch 96/100\n",
            "9/9 [==============================] - 1s 128ms/step - loss: 0.0031\n",
            "Epoch 97/100\n",
            "9/9 [==============================] - 1s 133ms/step - loss: 0.0028\n",
            "Epoch 98/100\n",
            "9/9 [==============================] - 1s 127ms/step - loss: 0.0028\n",
            "Epoch 99/100\n",
            "9/9 [==============================] - 1s 129ms/step - loss: 0.0032\n",
            "Epoch 100/100\n",
            "9/9 [==============================] - 2s 188ms/step - loss: 0.0036\n"
          ]
        },
        {
          "output_type": "execute_result",
          "data": {
            "text/plain": [
              "<keras.src.callbacks.History at 0x7df5eea7bc10>"
            ]
          },
          "metadata": {},
          "execution_count": 21
        }
      ]
    },
    {
      "cell_type": "markdown",
      "source": [
        "**dataset_test**"
      ],
      "metadata": {
        "id": "EMBJV5DTWY_g"
      }
    },
    {
      "cell_type": "code",
      "source": [
        "real_stock_price = dataset_test.iloc[:,1:2].values\n",
        "\n",
        "dataset_total = pd.concat((dataset_train['Open'],dataset_test['Open']),axis = 0)"
      ],
      "metadata": {
        "id": "SHWTuWEhWMOK"
      },
      "execution_count": null,
      "outputs": []
    },
    {
      "cell_type": "code",
      "source": [
        "print(len(dataset_total),len(dataset_test))\n",
        "inputs = dataset_total[len(dataset_total)-len(dataset_test)-60:].values\n",
        "print(inputs.shape)"
      ],
      "metadata": {
        "colab": {
          "base_uri": "https://localhost:8080/"
        },
        "id": "KqZW0xlHYcdC",
        "outputId": "80998c12-9055-45f0-8ae7-14d476dfbed9"
      },
      "execution_count": null,
      "outputs": [
        {
          "output_type": "stream",
          "name": "stdout",
          "text": [
            "431 100\n",
            "(160,)\n"
          ]
        }
      ]
    },
    {
      "cell_type": "code",
      "source": [
        "inputs = inputs.reshape(-1,1)\n",
        "print(inputs.shape)\n",
        "\n",
        "#sc = MinMaxScaler(feature_range = (0,1))\n",
        "inputs = sc.transform(inputs)\n",
        "print(inputs.shape)"
      ],
      "metadata": {
        "colab": {
          "base_uri": "https://localhost:8080/"
        },
        "id": "-GSsog9UaiJ-",
        "outputId": "726630c0-7915-4210-e821-8201dc8ac4c8"
      },
      "execution_count": null,
      "outputs": [
        {
          "output_type": "stream",
          "name": "stdout",
          "text": [
            "(160, 1)\n",
            "(160, 1)\n"
          ]
        }
      ]
    },
    {
      "cell_type": "code",
      "source": [
        "x_test = []\n",
        "for i in range(60,len(inputs)):\n",
        "    x_test.append(inputs[i-60:i,0])\n",
        "x_test = np.array(x_test)\n",
        "print(x_test.shape)\n",
        "\n",
        "x_test = np.reshape(x_test, (x_test.shape[0],x_test.shape[1],1))\n",
        "print(x_test.shape)"
      ],
      "metadata": {
        "colab": {
          "base_uri": "https://localhost:8080/"
        },
        "id": "Dp8xrTO3aoK7",
        "outputId": "f59e9b42-cf88-4778-a57b-86febca20bb3"
      },
      "execution_count": null,
      "outputs": [
        {
          "output_type": "stream",
          "name": "stdout",
          "text": [
            "(100, 60)\n",
            "(100, 60, 1)\n"
          ]
        }
      ]
    },
    {
      "cell_type": "code",
      "source": [
        "predicted_price = regressor.predict(x_test)"
      ],
      "metadata": {
        "colab": {
          "base_uri": "https://localhost:8080/"
        },
        "id": "irUpcl3-au0C",
        "outputId": "7536fb92-6a73-4c11-afd6-d6e58ffa6483"
      },
      "execution_count": null,
      "outputs": [
        {
          "output_type": "stream",
          "name": "stdout",
          "text": [
            "4/4 [==============================] - 2s 29ms/step\n"
          ]
        }
      ]
    },
    {
      "cell_type": "code",
      "source": [
        "predicted_price = sc.inverse_transform(predicted_price)\n",
        "print(predicted_price.shape)"
      ],
      "metadata": {
        "colab": {
          "base_uri": "https://localhost:8080/"
        },
        "id": "Anlg02MEazxW",
        "outputId": "0f0156dc-cafb-4f63-98e5-c31f55dfaf9c"
      },
      "execution_count": null,
      "outputs": [
        {
          "output_type": "stream",
          "name": "stdout",
          "text": [
            "(100, 1)\n"
          ]
        }
      ]
    },
    {
      "cell_type": "code",
      "source": [
        "plt.plot(real_stock_price,color = 'red', label = 'Real Price')\n",
        "plt.plot(predicted_price, color = 'blue', label = 'Predicted Price')\n",
        "plt.title('Google Stock Price Prediction')\n",
        "plt.xlabel('Time')\n",
        "plt.ylabel('Google Stock Price')\n",
        "plt.legend()\n",
        "plt.show()"
      ],
      "metadata": {
        "colab": {
          "base_uri": "https://localhost:8080/",
          "height": 472
        },
        "id": "fran6gPfa4N3",
        "outputId": "c1ad23a8-471e-420d-e7dd-b0130a08902d"
      },
      "execution_count": null,
      "outputs": [
        {
          "output_type": "display_data",
          "data": {
            "text/plain": [
              "<Figure size 640x480 with 1 Axes>"
            ],
            "image/png": "[encoded data removed]"
          },
          "metadata": {}
        }
      ]
    },
    {
      "cell_type": "code",
      "source": [
        "inputs = np.array(dataset_train['Open'][-60:])\n",
        "new_predicted_price=[]\n",
        "for i in range(100):\n",
        "    x = np.reshape(inputs, (1,60,1))\n",
        "    pred = regressor.predict(x)\n",
        "    inputs = np.append(inputs, pred)\n",
        "    inputs = inputs[1:]\n",
        "    new_predicted_price+=[pred.reshape(-1)]"
      ],
      "metadata": {
        "colab": {
          "base_uri": "https://localhost:8080/"
        },
        "id": "VHaEx7THbk-h",
        "outputId": "3baf2a17-3a1d-4559-da57-6eecfebb791b"
      },
      "execution_count": null,
      "outputs": [
        {
          "output_type": "stream",
          "name": "stdout",
          "text": [
            "1/1 [==============================] - 0s 73ms/step\n",
            "1/1 [==============================] - 0s 122ms/step\n",
            "1/1 [==============================] - 0s 49ms/step\n",
            "1/1 [==============================] - 0s 77ms/step\n",
            "1/1 [==============================] - 0s 90ms/step\n",
            "1/1 [==============================] - 0s 83ms/step\n",
            "1/1 [==============================] - 0s 120ms/step\n",
            "1/1 [==============================] - 0s 126ms/step\n",
            "1/1 [==============================] - 0s 45ms/step\n",
            "1/1 [==============================] - 0s 141ms/step\n",
            "1/1 [==============================] - 0s 42ms/step\n",
            "1/1 [==============================] - 0s 33ms/step\n",
            "1/1 [==============================] - 0s 33ms/step\n",
            "1/1 [==============================] - 0s 37ms/step\n",
            "1/1 [==============================] - 0s 37ms/step\n",
            "1/1 [==============================] - 0s 45ms/step\n",
            "1/1 [==============================] - 0s 35ms/step\n",
            "1/1 [==============================] - 0s 32ms/step\n",
            "1/1 [==============================] - 0s 31ms/step\n",
            "1/1 [==============================] - 0s 34ms/step\n",
            "1/1 [==============================] - 0s 40ms/step\n",
            "1/1 [==============================] - 0s 38ms/step\n",
            "1/1 [==============================] - 0s 32ms/step\n",
            "1/1 [==============================] - 0s 33ms/step\n",
            "1/1 [==============================] - 0s 33ms/step\n",
            "1/1 [==============================] - 0s 32ms/step\n",
            "1/1 [==============================] - 0s 38ms/step\n",
            "1/1 [==============================] - 0s 40ms/step\n",
            "1/1 [==============================] - 0s 34ms/step\n",
            "1/1 [==============================] - 0s 31ms/step\n",
            "1/1 [==============================] - 0s 31ms/step\n",
            "1/1 [==============================] - 0s 30ms/step\n",
            "1/1 [==============================] - 0s 29ms/step\n",
            "1/1 [==============================] - 0s 34ms/step\n",
            "1/1 [==============================] - 0s 38ms/step\n",
            "1/1 [==============================] - 0s 33ms/step\n",
            "1/1 [==============================] - 0s 37ms/step\n",
            "1/1 [==============================] - 0s 33ms/step\n",
            "1/1 [==============================] - 0s 31ms/step\n",
            "1/1 [==============================] - 0s 32ms/step\n",
            "1/1 [==============================] - 0s 35ms/step\n",
            "1/1 [==============================] - 0s 33ms/step\n",
            "1/1 [==============================] - 0s 32ms/step\n",
            "1/1 [==============================] - 0s 33ms/step\n",
            "1/1 [==============================] - 0s 34ms/step\n",
            "1/1 [==============================] - 0s 38ms/step\n",
            "1/1 [==============================] - 0s 31ms/step\n",
            "1/1 [==============================] - 0s 32ms/step\n",
            "1/1 [==============================] - 0s 46ms/step\n",
            "1/1 [==============================] - 0s 32ms/step\n",
            "1/1 [==============================] - 0s 31ms/step\n",
            "1/1 [==============================] - 0s 40ms/step\n",
            "1/1 [==============================] - 0s 32ms/step\n",
            "1/1 [==============================] - 0s 32ms/step\n",
            "1/1 [==============================] - 0s 34ms/step\n",
            "1/1 [==============================] - 0s 43ms/step\n",
            "1/1 [==============================] - 0s 30ms/step\n",
            "1/1 [==============================] - 0s 30ms/step\n",
            "1/1 [==============================] - 0s 30ms/step\n",
            "1/1 [==============================] - 0s 30ms/step\n",
            "1/1 [==============================] - 0s 32ms/step\n",
            "1/1 [==============================] - 0s 33ms/step\n",
            "1/1 [==============================] - 0s 32ms/step\n",
            "1/1 [==============================] - 0s 32ms/step\n",
            "1/1 [==============================] - 0s 32ms/step\n",
            "1/1 [==============================] - 0s 31ms/step\n",
            "1/1 [==============================] - 0s 31ms/step\n",
            "1/1 [==============================] - 0s 30ms/step\n",
            "1/1 [==============================] - 0s 31ms/step\n",
            "1/1 [==============================] - 0s 35ms/step\n",
            "1/1 [==============================] - 0s 37ms/step\n",
            "1/1 [==============================] - 0s 29ms/step\n",
            "1/1 [==============================] - 0s 30ms/step\n",
            "1/1 [==============================] - 0s 30ms/step\n",
            "1/1 [==============================] - 0s 30ms/step\n",
            "1/1 [==============================] - 0s 33ms/step\n",
            "1/1 [==============================] - 0s 32ms/step\n",
            "1/1 [==============================] - 0s 43ms/step\n",
            "1/1 [==============================] - 0s 33ms/step\n",
            "1/1 [==============================] - 0s 32ms/step\n",
            "1/1 [==============================] - 0s 31ms/step\n",
            "1/1 [==============================] - 0s 32ms/step\n",
            "1/1 [==============================] - 0s 31ms/step\n",
            "1/1 [==============================] - 0s 31ms/step\n",
            "1/1 [==============================] - 0s 35ms/step\n",
            "1/1 [==============================] - 0s 32ms/step\n",
            "1/1 [==============================] - 0s 31ms/step\n",
            "1/1 [==============================] - 0s 33ms/step\n",
            "1/1 [==============================] - 0s 35ms/step\n",
            "1/1 [==============================] - 0s 42ms/step\n",
            "1/1 [==============================] - 0s 30ms/step\n",
            "1/1 [==============================] - 0s 31ms/step\n",
            "1/1 [==============================] - 0s 33ms/step\n",
            "1/1 [==============================] - 0s 32ms/step\n",
            "1/1 [==============================] - 0s 36ms/step\n",
            "1/1 [==============================] - 0s 32ms/step\n",
            "1/1 [==============================] - 0s 34ms/step\n",
            "1/1 [==============================] - 0s 66ms/step\n",
            "1/1 [==============================] - 0s 57ms/step\n",
            "1/1 [==============================] - 0s 52ms/step\n"
          ]
        }
      ]
    },
    {
      "cell_type": "code",
      "source": [
        "new_predicted_price = sc.inverse_transform(np.array(new_predicted_price))\n",
        "print(new_predicted_price.shape)"
      ],
      "metadata": {
        "colab": {
          "base_uri": "https://localhost:8080/"
        },
        "id": "WNGQzQLMbq6g",
        "outputId": "f1c008bb-a5cc-4ac5-fae4-a0e404a634e4"
      },
      "execution_count": null,
      "outputs": [
        {
          "output_type": "stream",
          "name": "stdout",
          "text": [
            "(100, 1)\n"
          ]
        }
      ]
    },
    {
      "cell_type": "code",
      "source": [
        "plt.plot(real_stock_price,color = 'red', label = 'Real Price')\n",
        "plt.plot(new_predicted_price, color = 'blue', label = 'New Predicted Price')\n",
        "plt.title('Google Stock Price Prediction')\n",
        "plt.xlabel('Time')\n",
        "plt.ylabel('Google Stock Price')\n",
        "plt.legend()\n",
        "plt.show()"
      ],
      "metadata": {
        "colab": {
          "base_uri": "https://localhost:8080/",
          "height": 472
        },
        "id": "p5Md69TpbwUK",
        "outputId": "fe5ddcb6-6c39-476a-f559-946970f41223"
      },
      "execution_count": null,
      "outputs": [
        {
          "output_type": "display_data",
          "data": {
            "text/plain": [
              "<Figure size 640x480 with 1 Axes>"
            ],
            "image/png": "[encoded data removed]"
          },
          "metadata": {}
        }
      ]
    },
    {
      "cell_type": "code",
      "source": [],
      "metadata": {
        "id": "m-l-poHxb3Ss"
      },
      "execution_count": null,
      "outputs": []
    }
  ]
}